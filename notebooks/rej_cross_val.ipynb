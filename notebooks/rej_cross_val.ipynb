{
 "cells": [
  {
   "cell_type": "code",
   "execution_count": 3,
   "metadata": {
    "collapsed": true
   },
   "outputs": [],
   "source": [
    "import numpy as np\n",
    "% load_ext autoreload\n",
    "% autoreload 2\n",
    "\n",
    "from glob import glob\n",
    "from models import pretrained\n",
    "from rejectron.rejectronmodule import RejectronModule\n",
    "from data.camelyon import CamelyonModule\n",
    "import pytorch_lightning as pl\n",
    "from scipy.stats import binom_test"
   ]
  },
  {
   "cell_type": "code",
   "execution_count": 15,
   "outputs": [],
   "source": [
    "loc = '/voyager/projects/tomginsberg/detectron/checkpoints/camelyon/rejectron_test_seed=0_test_samples=1_shift=True'\n",
    "h = pretrained.camelyon_model(seed=0, wilds=False)"
   ],
   "metadata": {
    "collapsed": false,
    "pycharm": {
     "name": "#%%\n"
    }
   }
  },
  {
   "cell_type": "code",
   "execution_count": 16,
   "outputs": [
    {
     "name": "stdout",
     "output_type": "stream",
     "text": [
      "Loading 2 checkpoints from /voyager/projects/tomginsberg/detectron/checkpoints/camelyon/rejectron_test_seed=0_test_samples=1_shift=True using class <class 'models.classifier.TorchvisionClassifier'>\n"
     ]
    },
    {
     "name": "stderr",
     "output_type": "stream",
     "text": [
      "100%|██████████████████████████████████████████████████████████████████████████████████████████████████████| 2/2 [00:04<00:00,  2.40s/it]\n"
     ]
    }
   ],
   "source": [
    "rm = RejectronModule(h)\n",
    "rm.load_from_directory(loc)"
   ],
   "metadata": {
    "collapsed": false,
    "pycharm": {
     "name": "#%%\n"
    }
   }
  },
  {
   "cell_type": "code",
   "execution_count": 17,
   "outputs": [],
   "source": [
    "dm = CamelyonModule(\n",
    "    negative_labels=False\n",
    ")\n",
    "dm.configure_test_set(test_seed=0,\n",
    "                      test_samples=9,\n",
    "                      shift=True, exclusion_seed=0, exclusion_amount=1)"
   ],
   "metadata": {
    "collapsed": false,
    "pycharm": {
     "name": "#%%\n"
    }
   }
  },
  {
   "cell_type": "code",
   "execution_count": 18,
   "outputs": [],
   "source": [
    "import pandas as pd"
   ],
   "metadata": {
    "collapsed": false,
    "pycharm": {
     "name": "#%%\n"
    }
   }
  },
  {
   "cell_type": "code",
   "execution_count": 19,
   "outputs": [
    {
     "name": "stderr",
     "output_type": "stream",
     "text": [
      "GPU available: True, used: True\n",
      "TPU available: False, using: 0 TPU cores\n",
      "IPU available: False, using: 0 IPUs\n",
      "LOCAL_RANK: 0 - CUDA_VISIBLE_DEVICES: [0,1,2,3]\n"
     ]
    },
    {
     "data": {
      "text/plain": "Validating: 0it [00:00, ?it/s]",
      "application/vnd.jupyter.widget-view+json": {
       "version_major": 2,
       "version_minor": 0,
       "model_id": "a32f66361b1c49b5a62fdcf39ea90ef9"
      }
     },
     "metadata": {},
     "output_type": "display_data"
    },
    {
     "name": "stderr",
     "output_type": "stream",
     "text": [
      "/voyager/projects/tomginsberg/.conda/envs/pqlearning/lib/python3.9/site-packages/torch/nn/functional.py:718: UserWarning: Named tensors and all their associated APIs are an experimental feature and subject to change. Please do not use them for anything important until they are released as stable. (Triggered internally at  /opt/conda/conda-bld/pytorch_1623448255797/work/c10/core/TensorImpl.h:1156.)\n",
      "  return torch.max_pool2d(input, kernel_size, stride, padding, dilation, ceil_mode)\n"
     ]
    }
   ],
   "source": [
    "tr = pl.Trainer(gpus=[3])\n",
    "tr.validate(rm, dm.predict_dataloader(), verbose=False)\n",
    "baseline_rejection = rm.get_val_stats()['rejection'].item()\n",
    "print(baseline_rejection, 'baseline rejection')"
   ],
   "metadata": {
    "collapsed": false,
    "pycharm": {
     "name": "#%%\n"
    }
   }
  },
  {
   "cell_type": "code",
   "execution_count": null,
   "outputs": [],
   "source": [
    "l = []\n",
    "test_samples = 9\n",
    "exclusion_amount = 1\n",
    "exclusion_seed = 0\n",
    "\n",
    "for shift in (False,):\n",
    "    for i in range(100):\n",
    "        dm.configure_test_set(test_seed=i,\n",
    "                              test_samples=test_samples,\n",
    "                              shift=shift, exclusion_seed=exclusion_seed, exclusion_amount=exclusion_amount)\n",
    "        tr = pl.Trainer(gpus=[3])\n",
    "        tr.validate(rm, dm.test_dataloader(), verbose=False)\n",
    "        stats = rm.get_val_stats()\n",
    "        pval = binom_test(round(stats['rejection'].item() * test_samples), test_samples, baseline_rejection,\n",
    "                          alternative='greater')\n",
    "\n",
    "        l.append(dict(rejection=stats['rejection'].item(), test_seed=i,\n",
    "                      test_samples=test_samples, samples=test_samples,\n",
    "                      shift=shift, exclusion_seed=exclusion_seed, exclusion_amount=exclusion_amount,\n",
    "                      accepted_acc=stats['accepted_acc'].item(),\n",
    "                      rejected_acc=stats['rejected_acc'].item(), global_acc=stats['global_acc'].item(),\n",
    "                      pval=pval, significant=pval < 0.05))\n",
    "\n",
    "df_f = pd.DataFrame(l)"
   ],
   "metadata": {
    "collapsed": false,
    "pycharm": {
     "name": "#%%\n",
     "is_executing": true
    }
   }
  },
  {
   "cell_type": "code",
   "execution_count": 33,
   "outputs": [],
   "source": [
    "import numpy as np\n",
    "import matplotlib.pyplot as plt"
   ],
   "metadata": {
    "collapsed": false,
    "pycharm": {
     "name": "#%%\n"
    }
   }
  },
  {
   "cell_type": "code",
   "execution_count": 37,
   "outputs": [],
   "source": [
    "td = [(df.query('shift==True').pval < i).mean() for i in np.arange(0, 1, 0.001)]\n",
    "fd = [(df_f.query('shift==False').pval < i).mean() for i in np.arange(0, 1, 0.001)]"
   ],
   "metadata": {
    "collapsed": false,
    "pycharm": {
     "name": "#%%\n"
    }
   }
  },
  {
   "cell_type": "code",
   "execution_count": 45,
   "outputs": [
    {
     "data": {
      "text/plain": "[<matplotlib.lines.Line2D at 0x7f861191d790>]"
     },
     "execution_count": 45,
     "metadata": {},
     "output_type": "execute_result"
    },
    {
     "data": {
      "text/plain": "<Figure size 432x288 with 1 Axes>",
      "image/png": "[encoded data removed]"
     },
     "metadata": {
      "needs_background": "light"
     },
     "output_type": "display_data"
    }
   ],
   "source": [
    "plt.plot(fd, td)\n",
    "plt.ylabel('TD Rate')\n",
    "plt.xlabel('FD Rate')\n",
    "plt.plot([0, 1], [0, 1], 'k--')"
   ],
   "metadata": {
    "collapsed": false,
    "pycharm": {
     "name": "#%%\n"
    }
   }
  },
  {
   "cell_type": "code",
   "execution_count": 46,
   "outputs": [
    {
     "data": {
      "text/plain": "0.2103"
     },
     "execution_count": 46,
     "metadata": {},
     "output_type": "execute_result"
    }
   ],
   "source": [
    "np.trapz(td, fd)"
   ],
   "metadata": {
    "collapsed": false,
    "pycharm": {
     "name": "#%%\n"
    }
   }
  }
 ],
 "metadata": {
  "kernelspec": {
   "display_name": "Python 3",
   "language": "python",
   "name": "python3"
  },
  "language_info": {
   "codemirror_mode": {
    "name": "ipython",
    "version": 2
   },
   "file_extension": ".py",
   "mimetype": "text/x-python",
   "name": "python",
   "nbconvert_exporter": "python",
   "pygments_lexer": "ipython2",
   "version": "2.7.6"
  }
 },
 "nbformat": 4,
 "nbformat_minor": 0
}