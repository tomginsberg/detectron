{
 "cells": [
  {
   "cell_type": "code",
   "execution_count": 2,
   "outputs": [],
   "source": [
    "% load_ext autoreload\n",
    "% autoreload 2"
   ],
   "metadata": {
    "collapsed": false,
    "pycharm": {
     "name": "#%%\n"
    }
   }
  },
  {
   "cell_type": "code",
   "execution_count": 3,
   "outputs": [],
   "source": [
    "from wilds.datasets.ogbmolpcba_dataset import OGBPCBADataset\n",
    "from torch.utils.data import DataLoader\n",
    "from torch_geometric.loader.dataloader import Collater\n",
    "from models.gnn import GINVirtual\n",
    "import torch\n",
    "from utils.generic import key_replace\n",
    "import matplotlib.pyplot as plt"
   ],
   "metadata": {
    "collapsed": false,
    "pycharm": {
     "name": "#%%\n"
    }
   }
  },
  {
   "cell_type": "code",
   "execution_count": 4,
   "outputs": [],
   "source": [
    "d = OGBPCBADataset(root_dir='/voyager/datasets')"
   ],
   "metadata": {
    "collapsed": false,
    "pycharm": {
     "name": "#%%\n"
    }
   }
  },
  {
   "cell_type": "code",
   "execution_count": 11,
   "outputs": [],
   "source": [
    "dl = DataLoader(d.get_subset('train'), batch_size=1024, shuffle=True,\n",
    "                collate_fn=Collater(exclude_keys=[], follow_batch=[]))"
   ],
   "metadata": {
    "collapsed": false,
    "pycharm": {
     "name": "#%%\n"
    }
   }
  },
  {
   "cell_type": "code",
   "execution_count": 66,
   "outputs": [
    {
     "data": {
      "text/plain": "<All keys matched successfully>"
     },
     "execution_count": 66,
     "metadata": {},
     "output_type": "execute_result"
    }
   ],
   "source": [
    "model = GINVirtual()\n",
    "sd = torch.load('/voyager/projects/tomginsberg/wilds_models/ogb-molpcba_erm_seed1/best_model.pth')\n",
    "model.load_state_dict(key_replace(sd['algorithm'], 'model.'))"
   ],
   "metadata": {
    "collapsed": false,
    "pycharm": {
     "name": "#%%\n"
    }
   }
  },
  {
   "cell_type": "code",
   "execution_count": 8,
   "outputs": [],
   "source": [
    "from torchmetrics import Accuracy\n",
    "from tqdm import tqdm"
   ],
   "metadata": {
    "collapsed": false,
    "pycharm": {
     "name": "#%%\n"
    }
   }
  },
  {
   "cell_type": "code",
   "execution_count": 67,
   "outputs": [
    {
     "name": "stderr",
     "output_type": "stream",
     "text": [
      "100%|█████████████████████████████████████████████████████████████████| 343/343 [00:24<00:00, 14.19it/s]\n"
     ]
    }
   ],
   "source": [
    "model.eval()\n",
    "model = model.to('cuda')\n",
    "p, l = [], []\n",
    "for i, batch in enumerate(tqdm(dl)):\n",
    "    with torch.no_grad():\n",
    "        pred = model(batch[0].cuda())\n",
    "        p.append(pred)\n",
    "        l.append(batch[1])\n",
    "\n",
    "p = torch.cat(p).cpu()\n",
    "l = torch.cat(l).cpu()"
   ],
   "metadata": {
    "collapsed": false,
    "pycharm": {
     "name": "#%%\n"
    }
   }
  },
  {
   "cell_type": "code",
   "execution_count": 51,
   "outputs": [],
   "source": [
    "from torchmetrics import Precision, Recall\n",
    "\n",
    "\n",
    "def scores_with_nan(y_pred, y_true):\n",
    "    mask = ~torch.isnan(y_true)\n",
    "    y_true = y_true[mask].int()\n",
    "    y_pred = torch.sigmoid(y_pred[mask])\n",
    "    scores = [Precision(), Recall()]\n",
    "    [s.update(y_pred, y_true) for s in scores]\n",
    "    return torch.stack([s.compute() for s in scores])"
   ],
   "metadata": {
    "collapsed": false,
    "pycharm": {
     "name": "#%%\n"
    }
   }
  },
  {
   "cell_type": "code",
   "execution_count": 69,
   "outputs": [],
   "source": [
    "scores = torch.stack([scores_with_nan(p[:, i], l[:, i]) for i in range(p.shape[1])])"
   ],
   "metadata": {
    "collapsed": false,
    "pycharm": {
     "name": "#%%\n"
    }
   }
  },
  {
   "cell_type": "code",
   "execution_count": 70,
   "outputs": [
    {
     "data": {
      "text/plain": "<Figure size 432x288 with 1 Axes>",
      "image/png": "[encoded data removed]"
     },
     "metadata": {
      "needs_background": "light"
     },
     "output_type": "display_data"
    },
    {
     "data": {
      "text/plain": "<Figure size 432x288 with 1 Axes>",
      "image/png": "[encoded data removed]"
     },
     "metadata": {
      "needs_background": "light"
     },
     "output_type": "display_data"
    }
   ],
   "source": [
    "plt.hist(scores[:,0].numpy())\n",
    "plt.title(f'Precision {scores[:,0].mean().item():.3f}')\n",
    "plt.show()\n",
    "plt.hist(scores[:,1].numpy())\n",
    "plt.title(f'Recall {scores[:,1].mean().item():.3f}');"
   ],
   "metadata": {
    "collapsed": false,
    "pycharm": {
     "name": "#%%\n"
    }
   }
  },
  {
   "cell_type": "code",
   "execution_count": 71,
   "outputs": [
    {
     "data": {
      "text/plain": "1"
     },
     "execution_count": 71,
     "metadata": {},
     "output_type": "execute_result"
    }
   ],
   "source": [],
   "metadata": {
    "collapsed": false,
    "pycharm": {
     "name": "#%%\n"
    }
   }
  }
 ],
 "metadata": {
  "kernelspec": {
   "display_name": "Python 3",
   "language": "python",
   "name": "python3"
  },
  "language_info": {
   "codemirror_mode": {
    "name": "ipython",
    "version": 2
   },
   "file_extension": ".py",
   "mimetype": "text/x-python",
   "name": "python",
   "nbconvert_exporter": "python",
   "pygments_lexer": "ipython2",
   "version": "2.7.6"
  }
 },
 "nbformat": 4,
 "nbformat_minor": 0
}